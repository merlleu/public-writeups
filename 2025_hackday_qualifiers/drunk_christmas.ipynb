{
 "cells": [
  {
   "cell_type": "markdown",
   "metadata": {},
   "source": [
    "# Drunk Christmas\n",
    "\n",
    "Last year people were angry at my chall for needing the use of open-source tools such as bkcrack. This year's chall still has zips, but they have NO passwords. HA ! You still need to decrypt the flag, tho. glhf"
   ]
  },
  {
   "cell_type": "markdown",
   "metadata": {},
   "source": [
    "## Observations:\n",
    "- If we upload a file, we get it back in a zip containing: file.enc, flag.txt.enc and a readme\n",
    "- The flag is probably encrypted with the same key as the file\n",
    "\n",
    "## Approach:\n",
    "- We first try to create a large file containing the same character and upload it to see if we can find a pattern"
   ]
  },
  {
   "cell_type": "code",
   "execution_count": null,
   "metadata": {},
   "outputs": [
    {
     "data": {
      "text/plain": [
       "50000"
      ]
     },
     "execution_count": 10,
     "metadata": {},
     "output_type": "execute_result"
    }
   ],
   "source": [
    "open('test1.txt', 'w').write('A'* 50000)"
   ]
  },
  {
   "cell_type": "markdown",
   "metadata": {},
   "source": [
    "After uploading the file, we see that the same pattern is repeated every 256 characters in the encrypted file. This suggests that the key is 256 bytes long. We can now use this information to decrypt the flag.\n",
    "\n",
    "To do so, we generate a file containing blocks of 256 characters, where each block is the same character."
   ]
  },
  {
   "cell_type": "code",
   "execution_count": null,
   "metadata": {},
   "outputs": [
    {
     "data": {
      "text/plain": [
       "24064"
      ]
     },
     "execution_count": 11,
     "metadata": {},
     "output_type": "execute_result"
    }
   ],
   "source": [
    "chars = '0123456789abcdefghijklmnopqrstuvwxyzABCDEFGHIJKLMNOPQRSTUVWXYZ!\"#$%&\\'()*+,-./:;<=>?@[\\\\]^_`{|}~'\n",
    "content = []\n",
    "for ch in chars:\n",
    "    content.append(ch * 256)\n",
    "\n",
    "open('test2.txt', 'w').write(''.join(content))"
   ]
  },
  {
   "cell_type": "markdown",
   "metadata": {},
   "source": [
    "Now we have our matching table, we can just map (block_index, encrypted_character) to decrypted_character and decrypt the flag."
   ]
  },
  {
   "cell_type": "code",
   "execution_count": 12,
   "metadata": {},
   "outputs": [
    {
     "name": "stdout",
     "output_type": "stream",
     "text": [
      "HACKDAY{Simple_Secrets_For_Weak_Cipher_1134567892}"
     ]
    }
   ],
   "source": [
    "encoded = open('test2.txt.enc', 'rb').read()\n",
    "\n",
    "mapper = {}\n",
    "for i in range(0, len(encoded)):\n",
    "    char = chars[i // 256]\n",
    "    enc = encoded[i]\n",
    "    idx = i % 256\n",
    "    \n",
    "    if idx not in mapper:\n",
    "        mapper[idx] = {}\n",
    "    \n",
    "    mapper[idx][enc] = char\n",
    "\n",
    "flagenc = open('flag.txt.enc', 'rb').read()\n",
    "for i in range(0, len(flagenc)):\n",
    "    enc = flagenc[i]\n",
    "    idx = i % 256\n",
    "    print(mapper[idx][enc], end='')"
   ]
  }
 ],
 "metadata": {
  "kernelspec": {
   "display_name": "Python 3",
   "language": "python",
   "name": "python3"
  },
  "language_info": {
   "codemirror_mode": {
    "name": "ipython",
    "version": 3
   },
   "file_extension": ".py",
   "mimetype": "text/x-python",
   "name": "python",
   "nbconvert_exporter": "python",
   "pygments_lexer": "ipython3",
   "version": "3.12.8"
  }
 },
 "nbformat": 4,
 "nbformat_minor": 2
}
