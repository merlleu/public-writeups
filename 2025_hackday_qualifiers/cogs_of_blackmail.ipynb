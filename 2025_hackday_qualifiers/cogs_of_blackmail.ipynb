{
 "cells": [
  {
   "cell_type": "markdown",
   "metadata": {},
   "source": [
    "# The Cogs of Blackmail\n",
    "\n",
    "In a city where steam and gears govern the world, a major steampunk company named SteamVault Industries dominates the market for mechanical inventions. You are a cybersecurity expert serving the citizens of this futuristic city.\n",
    "\n",
    "One morning, Victor Gearstone, the chief system administrator of SteamVault, receives an anonymous message from a hacker claiming to possess compromising images of his wife. In exchange for silence, the hacker demands that Victor grant them permanent access to the company’s internal system, jeopardizing critical industrial secrets. Panicked, Victor turns to you to investigate and determine whether the hacker’s claims are genuine or a sophisticated lie.\n",
    "\n",
    "Your mission is to inspect the received files, analyze the malware sent by the hacker, and uncover the truth. Everything must be done with precision and discretion.\n",
    "\n",
    "sha256 : ae50d86ac083698999075e8cdf4aac49ff6f1f93622753b04a5cd122155bcd06"
   ]
  },
  {
   "cell_type": "markdown",
   "metadata": {},
   "source": [
    "## Observations:\n",
    "\n",
    "We have a C# dll, after decompiling we see it contains an aes payload decrypt it using key and iv and then execute a method on the decrypted payload.\n",
    "There is also lots of junk code to confuse the analyst. \n",
    "\n",
    "Our goal: decompile and parse these files using a script to get the next compiled dll and so on until we get the final payload."
   ]
  },
  {
   "cell_type": "code",
   "execution_count": null,
   "metadata": {},
   "outputs": [],
   "source": [
    "import os, json\n",
    "from Crypto.Cipher import AES\n",
    "\n",
    "def dump_dll(i):\n",
    "    os.system(f'ilspycmd dlls/{i}.dll -p -o data/{i}')\n",
    "\n",
    "def get_correct_file(i):\n",
    "    for f in os.listdir(f'data/{i}'):\n",
    "        if f.endswith('.cs'):\n",
    "            return f\"data/{i}/{f}\"\n",
    "\n",
    "\n",
    "def parse_file(path):\n",
    "    d = {}\n",
    "    with open(path, 'r') as f:\n",
    "        lines = f.read().split(';')\n",
    "        parser = CSParser(lines)\n",
    "        d = parser.parse()\n",
    "    key = parseval(d['byte[] key'])\n",
    "    iv = parseval(d['byte[] iV'])\n",
    "    array2 = parseval(d['array2'])\n",
    "    \n",
    "    return {\n",
    "        'key': key,\n",
    "        'iv': iv,\n",
    "        'array2': array2\n",
    "    }\n",
    "\n",
    "def decode(i, val):\n",
    "    key = val['key']\n",
    "    iv = val['iv']\n",
    "    encrypted_data = val['array2']\n",
    "    \n",
    "    cipher = AES.new(key, AES.MODE_CBC, iv)\n",
    "    decrypted_data = cipher.decrypt(encrypted_data)\n",
    "    with open(f'dlls/{i+1}.dll', 'wb') as f:\n",
    "        f.write(decrypted_data)\n",
    "\n",
    "def parseval(val):\n",
    "    val = val.split('{')[1].split('}')[0]\n",
    "    val = [\n",
    "        int(v.strip())\n",
    "        for v in val.split(',')]\n",
    "\n",
    "    return bytes(val)\n",
    "\n",
    "class CSParser:\n",
    "    def __init__(self, lines):\n",
    "        self.lines = lines\n",
    "        self.d = {}\n",
    "        self.idx = 0\n",
    "    \n",
    "    def parse(self):\n",
    "        while self.idx < len(self.lines):\n",
    "            self.parse_line()\n",
    "            self.idx += 1\n",
    "            \n",
    "        return self.d\n",
    "\n",
    "    def parse_line(self):\n",
    "        line = self.lines[self.idx].strip()\n",
    "        if ' = ' in line:\n",
    "            self.parse_assignment()\n",
    "    \n",
    "    def parse_assignment(self):\n",
    "        line = self.lines[self.idx].strip()\n",
    "        name, value = line.split(' = ')\n",
    "        self.d[name] = value\n",
    "# dump_dll(1)\n",
    "\n",
    "def do(i):\n",
    "    dump_dll(i)\n",
    "    d = parse_file(get_correct_file(i))\n",
    "\n",
    "    decode(i, d)\n",
    "\n",
    "for i in range(1, 1000):\n",
    "    print(i)\n",
    "    do(i)"
   ]
  },
  {
   "cell_type": "markdown",
   "metadata": {},
   "source": [
    "At the step 150, we have the flag in plaintext."
   ]
  }
 ],
 "metadata": {
  "kernelspec": {
   "display_name": "Python 3",
   "language": "python",
   "name": "python3"
  },
  "language_info": {
   "codemirror_mode": {
    "name": "ipython",
    "version": 3
   },
   "file_extension": ".py",
   "mimetype": "text/x-python",
   "name": "python",
   "nbconvert_exporter": "python",
   "pygments_lexer": "ipython3",
   "version": "3.12.8"
  }
 },
 "nbformat": 4,
 "nbformat_minor": 2
}
